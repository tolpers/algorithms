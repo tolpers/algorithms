{
 "cells": [
  {
   "cell_type": "markdown",
   "metadata": {
    "executionInfo": {
     "elapsed": 922,
     "status": "ok",
     "timestamp": 1622419651245,
     "user": {
      "displayName": "Nina Trubacheva",
      "photoUrl": "",
      "userId": "12178336938096721991"
     },
     "user_tz": -480
    },
    "id": "gkczcuMGto0P"
   },
   "source": [
    "### HW_lesson_2"
   ]
  },
  {
   "cell_type": "markdown",
   "metadata": {},
   "source": [
    "1. Сгенерировать датасет при помощи sklearn.datasets.make_regression и обучить линейную модель при помощи градиентного и стохастического градиентного спуска. Нанести среднеквадратичную ошибку для обоих методов на один график, сделать выводы о разнице скорости сходимости каждого из методов.\n",
    "\n",
    "2. Модифицировать решение первого задания путем добавления 𝐿2 -регуляризации (в функцию, считающую MSE, нужно добавить норму вектора весов) и сравнить результаты.\n",
    "\n",
    "3. [опция]. Модернизировать решение задания 2, заменив L2 регуляризацию на L1 регуляризацию."
   ]
  },
  {
   "cell_type": "code",
   "execution_count": 1,
   "metadata": {},
   "outputs": [],
   "source": [
    "import numpy as np\n",
    "from sklearn import datasets\n",
    "import matplotlib.pyplot as plt\n",
    "\n",
    "%matplotlib inline"
   ]
  },
  {
   "cell_type": "code",
   "execution_count": 2,
   "metadata": {
    "executionInfo": {
     "elapsed": 284,
     "status": "ok",
     "timestamp": 1622419689721,
     "user": {
      "displayName": "Nina Trubacheva",
      "photoUrl": "",
      "userId": "12178336938096721991"
     },
     "user_tz": -480
    },
    "id": "iNb8nRrGvyha"
   },
   "outputs": [],
   "source": [
    "X, y, coef = datasets.make_regression(n_samples=5000, n_features = 2, n_informative = 2, n_targets = 1, effective_rank = None,\n",
    "                                              noise = 5, coef = True, random_state = 2)"
   ]
  },
  {
   "cell_type": "code",
   "execution_count": 3,
   "metadata": {
    "colab": {
     "base_uri": "https://localhost:8080/"
    },
    "executionInfo": {
     "elapsed": 306,
     "status": "ok",
     "timestamp": 1622419702670,
     "user": {
      "displayName": "Nina Trubacheva",
      "photoUrl": "",
      "userId": "12178336938096721991"
     },
     "user_tz": -480
    },
    "id": "D4CDSn48vyqp",
    "outputId": "730798a6-30ad-4b40-c87c-7fa4dd48f493"
   },
   "outputs": [
    {
     "data": {
      "text/plain": [
       "((5000, 2), (5000,), array([16.8968717 , 28.29007558]))"
      ]
     },
     "execution_count": 3,
     "metadata": {},
     "output_type": "execute_result"
    }
   ],
   "source": [
    "X.shape, y.shape, coef"
   ]
  },
  {
   "cell_type": "code",
   "execution_count": 4,
   "metadata": {
    "executionInfo": {
     "elapsed": 275,
     "status": "ok",
     "timestamp": 1622419746105,
     "user": {
      "displayName": "Nina Trubacheva",
      "photoUrl": "",
      "userId": "12178336938096721991"
     },
     "user_tz": -480
    },
    "id": "VR-df5dZvyth"
   },
   "outputs": [],
   "source": [
    "X1 = np.hstack((np.ones((X.shape[0], 1)), X))"
   ]
  },
  {
   "cell_type": "code",
   "execution_count": 5,
   "metadata": {
    "executionInfo": {
     "elapsed": 276,
     "status": "ok",
     "timestamp": 1622419814261,
     "user": {
      "displayName": "Nina Trubacheva",
      "photoUrl": "",
      "userId": "12178336938096721991"
     },
     "user_tz": -480
    },
    "id": "O0nldwecvyvr"
   },
   "outputs": [],
   "source": [
    "X1 = X1.T"
   ]
  },
  {
   "cell_type": "code",
   "execution_count": 6,
   "metadata": {
    "executionInfo": {
     "elapsed": 381,
     "status": "ok",
     "timestamp": 1622419898370,
     "user": {
      "displayName": "Nina Trubacheva",
      "photoUrl": "",
      "userId": "12178336938096721991"
     },
     "user_tz": -480
    },
    "id": "PteaETCsvyyM"
   },
   "outputs": [],
   "source": [
    "def std_calculation(x):\n",
    "        result = (x - x.mean()) / x.std()\n",
    "        return result"
   ]
  },
  {
   "cell_type": "code",
   "execution_count": 7,
   "metadata": {
    "executionInfo": {
     "elapsed": 293,
     "status": "ok",
     "timestamp": 1622419977983,
     "user": {
      "displayName": "Nina Trubacheva",
      "photoUrl": "",
      "userId": "12178336938096721991"
     },
     "user_tz": -480
    },
    "id": "1Pj09RaownuO"
   },
   "outputs": [],
   "source": [
    "def data_standartization(X):\n",
    "    X_standarted = X.copy().astype(np.float64)\n",
    "    for i in range(X.shape[0]):\n",
    "        if i == 0:\n",
    "          continue\n",
    "        X_standarted[i] = std_calculation(X[i])\n",
    "    return X_standarted"
   ]
  },
  {
   "cell_type": "code",
   "execution_count": 8,
   "metadata": {
    "colab": {
     "base_uri": "https://localhost:8080/"
    },
    "executionInfo": {
     "elapsed": 297,
     "status": "ok",
     "timestamp": 1622419991946,
     "user": {
      "displayName": "Nina Trubacheva",
      "photoUrl": "",
      "userId": "12178336938096721991"
     },
     "user_tz": -480
    },
    "id": "gdVyXFG1wnw5",
    "outputId": "09da71df-0f39-4ebb-ce8c-a2216ebd5089"
   },
   "outputs": [
    {
     "data": {
      "text/plain": [
       "array([[ 1.        ,  1.        ,  1.        , ...,  1.        ,\n",
       "         1.        ,  1.        ],\n",
       "       [ 1.98927669,  0.8747335 , -0.48384168, ...,  0.2281815 ,\n",
       "        -0.9154966 ,  1.12639576],\n",
       "       [ 0.03121934,  0.34450212,  0.09830397, ...,  0.06316268,\n",
       "        -0.05771426, -0.43769802]])"
      ]
     },
     "execution_count": 8,
     "metadata": {},
     "output_type": "execute_result"
    }
   ],
   "source": [
    "X_stand = data_standartization(X1)\n",
    "X_stand"
   ]
  },
  {
   "cell_type": "code",
   "execution_count": 9,
   "metadata": {
    "colab": {
     "base_uri": "https://localhost:8080/"
    },
    "executionInfo": {
     "elapsed": 295,
     "status": "ok",
     "timestamp": 1622420022005,
     "user": {
      "displayName": "Nina Trubacheva",
      "photoUrl": "",
      "userId": "12178336938096721991"
     },
     "user_tz": -480
    },
    "id": "cNo1fj39wnzX",
    "outputId": "041d861d-dbeb-444f-86e6-f0173257d2fd"
   },
   "outputs": [
    {
     "data": {
      "text/plain": [
       "(4.263256414560601e-18, 1.0)"
      ]
     },
     "execution_count": 9,
     "metadata": {},
     "output_type": "execute_result"
    }
   ],
   "source": [
    "# среднее значение должно быть = 0, стандартная ошибка - 1\n",
    "np.mean(X_stand[1]), np.std(X_stand[1])"
   ]
  },
  {
   "cell_type": "code",
   "execution_count": 10,
   "metadata": {
    "executionInfo": {
     "elapsed": 279,
     "status": "ok",
     "timestamp": 1622420086741,
     "user": {
      "displayName": "Nina Trubacheva",
      "photoUrl": "",
      "userId": "12178336938096721991"
     },
     "user_tz": -480
    },
    "id": "pV31I0gyxTY2"
   },
   "outputs": [],
   "source": [
    "def robust_scale(X):\n",
    "    X_robust = X.copy().astype(np.float64)\n",
    "    for i in range(X.shape[0]):\n",
    "        if i == 0:\n",
    "          continue\n",
    "        percentiles = np.percentile(X[i], (25.0, 75.0))\n",
    "        X_robust[i] = (X[i] - np.median(X[i])) / percentiles[1] - percentiles[0]\n",
    "    return X_robust\n"
   ]
  },
  {
   "cell_type": "code",
   "execution_count": 11,
   "metadata": {
    "colab": {
     "base_uri": "https://localhost:8080/"
    },
    "executionInfo": {
     "elapsed": 270,
     "status": "ok",
     "timestamp": 1622420092635,
     "user": {
      "displayName": "Nina Trubacheva",
      "photoUrl": "",
      "userId": "12178336938096721991"
     },
     "user_tz": -480
    },
    "id": "65n1FAlAxTbX",
    "outputId": "e0bc83c4-2840-49e0-857f-8aa57d027129"
   },
   "outputs": [
    {
     "data": {
      "text/plain": [
       "array([[ 1.        ,  1.        ,  1.        , ...,  1.        ,\n",
       "         1.        ,  1.        ],\n",
       "       [ 3.89974865,  2.12329157, -0.04212518, ...,  1.09276006,\n",
       "        -0.73013481,  2.52441304],\n",
       "       [ 0.70526858,  1.18015848,  0.80695887, ...,  0.75368991,\n",
       "         0.57045853, -0.00554009]])"
      ]
     },
     "execution_count": 11,
     "metadata": {},
     "output_type": "execute_result"
    }
   ],
   "source": [
    "X_rob = robust_scale(X1)\n",
    "X_rob"
   ]
  },
  {
   "cell_type": "code",
   "execution_count": 12,
   "metadata": {
    "executionInfo": {
     "elapsed": 328,
     "status": "ok",
     "timestamp": 1622420114730,
     "user": {
      "displayName": "Nina Trubacheva",
      "photoUrl": "",
      "userId": "12178336938096721991"
     },
     "user_tz": -480
    },
    "id": "uqwVM7RpxTdx"
   },
   "outputs": [],
   "source": [
    "def calc_mse(y, y_pred):\n",
    "    error = np.mean((y - y_pred)**2)\n",
    "    return error"
   ]
  },
  {
   "cell_type": "code",
   "execution_count": 13,
   "metadata": {
    "executionInfo": {
     "elapsed": 270,
     "status": "ok",
     "timestamp": 1622420186562,
     "user": {
      "displayName": "Nina Trubacheva",
      "photoUrl": "",
      "userId": "12178336938096721991"
     },
     "user_tz": -480
    },
    "id": "HzfxHvtExTgb"
   },
   "outputs": [],
   "source": [
    "def gradient_descent_alpha_div_i(X, y, start_alpha, epsilon):\n",
    "    n = X.shape[1]\n",
    "    W = np.random.randn(X.shape[0])\n",
    "    i=1\n",
    "    W_prev = np.array([])\n",
    "    err_prev = 0\n",
    "    err = 0\n",
    "    errors = []\n",
    "\n",
    "    while True:\n",
    "        W_prev = W.copy()\n",
    "        err_prev = err\n",
    "        y_pred = np.dot(W, X)\n",
    "        err = calc_mse(y, y_pred)\n",
    "        W -= start_alpha/i * (1/n * 2 * np.dot(X, (y_pred - y)))\n",
    "        errors.append(err)\n",
    "\n",
    "        if i % 10 == 0:\n",
    "            print(i, start_alpha/i, W, err)\n",
    "\n",
    "        if np.sum(np.abs(W - W_prev)) < epsilon:\n",
    "            break\n",
    "  \n",
    "        i+=1\n",
    "\n",
    "    print(f\"для заданной точности {epsilon}\\nоптимальное количество итераций = {i-1}\\nпри них получаем W = {W_prev} и mse = {err_prev}\")\n",
    "    return W_prev, errors"
   ]
  },
  {
   "cell_type": "code",
   "execution_count": 14,
   "metadata": {
    "colab": {
     "base_uri": "https://localhost:8080/"
    },
    "executionInfo": {
     "elapsed": 284,
     "status": "ok",
     "timestamp": 1622420197123,
     "user": {
      "displayName": "Nina Trubacheva",
      "photoUrl": "",
      "userId": "12178336938096721991"
     },
     "user_tz": -480
    },
    "id": "koYCOXXBx2y6",
    "outputId": "1a5a04a1-ba78-4109-d11f-b0996aa8ce7f"
   },
   "outputs": [
    {
     "name": "stdout",
     "output_type": "stream",
     "text": [
      "10 0.1 [-0.56616349 16.9713025  28.21791704] 25.30701511502717\n",
      "20 0.05 [-0.56616349 16.9718337  28.21821579] 25.30701416211835\n",
      "для заданной точности 1e-05\n",
      "оптимальное количество итераций = 27\n",
      "при них получаем W = [-0.56616349 16.97190927 28.21825821] и mse = 25.307014130247158\n"
     ]
    }
   ],
   "source": [
    "W, errors = gradient_descent_alpha_div_i(X_stand, y, 1, 0.00001)"
   ]
  },
  {
   "cell_type": "code",
   "execution_count": 15,
   "metadata": {
    "colab": {
     "base_uri": "https://localhost:8080/",
     "height": 312
    },
    "executionInfo": {
     "elapsed": 294,
     "status": "ok",
     "timestamp": 1622420211719,
     "user": {
      "displayName": "Nina Trubacheva",
      "photoUrl": "",
      "userId": "12178336938096721991"
     },
     "user_tz": -480
    },
    "id": "9fiXkKDyx21c",
    "outputId": "cd5dbfb1-adbc-4ff7-dac7-4fd4941de8a3"
   },
   "outputs": [
    {
     "data": {
      "text/plain": [
       "Text(0, 0.5, 'MSE')"
      ]
     },
     "execution_count": 15,
     "metadata": {},
     "output_type": "execute_result"
    },
    {
     "data": {
      "image/png": "[encoded data removed]",
      "text/plain": [
       "<Figure size 432x288 with 1 Axes>"
      ]
     },
     "metadata": {
      "needs_background": "light"
     },
     "output_type": "display_data"
    }
   ],
   "source": [
    "plt.plot(range(len(errors)), errors)\n",
    "plt.title('MSE')\n",
    "plt.xlabel('Iteration number')\n",
    "plt.ylabel('MSE')"
   ]
  },
  {
   "cell_type": "code",
   "execution_count": 16,
   "metadata": {
    "executionInfo": {
     "elapsed": 289,
     "status": "ok",
     "timestamp": 1622420437842,
     "user": {
      "displayName": "Nina Trubacheva",
      "photoUrl": "",
      "userId": "12178336938096721991"
     },
     "user_tz": -480
    },
    "id": "nIzYCq80x23s"
   },
   "outputs": [],
   "source": [
    "\n",
    "def gradient_descent(X, y, iters, alpha, epsilon):\n",
    "    n = X.shape[1]\n",
    "    W = np.random.randn(X.shape[0])\n",
    "    errors, weights = [], [W]\n",
    "    i=1\n",
    "    W_prev = np.array([])\n",
    "    err_prev = 0\n",
    "    err = 0\n",
    "\n",
    "    for n_iter in range(iters):\n",
    "\n",
    "        W_prev = W.copy()\n",
    "        err_prev = err\n",
    "        y_pred = np.dot(W, X)\n",
    "        err = calc_mse(y, y_pred)\n",
    "        W -= alpha * (1/n * 2 * np.dot(X, (y_pred - y)))\n",
    "        errors.append(err)\n",
    "        weights.append(W)\n",
    "\n",
    "        if np.abs(err - err_prev) < epsilon:\n",
    "            break\n",
    "\n",
    "    print(f\"для заданной точности {epsilon}\\nполучаем W = {W_prev} и mse = {err_prev}\")\n",
    "    return W_prev, errors, weights"
   ]
  },
  {
   "cell_type": "code",
   "execution_count": 17,
   "metadata": {
    "colab": {
     "base_uri": "https://localhost:8080/"
    },
    "executionInfo": {
     "elapsed": 270,
     "status": "ok",
     "timestamp": 1622420323242,
     "user": {
      "displayName": "Nina Trubacheva",
      "photoUrl": "",
      "userId": "12178336938096721991"
     },
     "user_tz": -480
    },
    "id": "HgiBp_Tzx28o",
    "outputId": "99cf59ea-277e-46f7-8c43-90ea398dc2fb"
   },
   "outputs": [
    {
     "name": "stdout",
     "output_type": "stream",
     "text": [
      "для заданной точности 1e-05\n",
      "получаем W = [-0.56685377 16.96420657 28.20516068] и mse = 25.307258047954743\n"
     ]
    }
   ],
   "source": [
    "W, errors, weights = gradient_descent(X_stand, y, 1000, 0.01, 0.00001)"
   ]
  },
  {
   "cell_type": "code",
   "execution_count": 18,
   "metadata": {
    "colab": {
     "base_uri": "https://localhost:8080/",
     "height": 312
    },
    "executionInfo": {
     "elapsed": 305,
     "status": "ok",
     "timestamp": 1622420339291,
     "user": {
      "displayName": "Nina Trubacheva",
      "photoUrl": "",
      "userId": "12178336938096721991"
     },
     "user_tz": -480
    },
    "id": "D5fzxTQqyadA",
    "outputId": "45efa53d-bb4e-4134-aa9d-bed5b6793de9"
   },
   "outputs": [
    {
     "data": {
      "text/plain": [
       "Text(0, 0.5, 'MSE')"
      ]
     },
     "execution_count": 18,
     "metadata": {},
     "output_type": "execute_result"
    },
    {
     "data": {
      "image/png": "[encoded data removed]",
      "text/plain": [
       "<Figure size 432x288 with 1 Axes>"
      ]
     },
     "metadata": {
      "needs_background": "light"
     },
     "output_type": "display_data"
    }
   ],
   "source": [
    "plt.plot(range(len(errors)), errors)\n",
    "plt.title('MSE')\n",
    "plt.xlabel('Iteration number')\n",
    "plt.ylabel('MSE')"
   ]
  },
  {
   "cell_type": "code",
   "execution_count": 19,
   "metadata": {
    "executionInfo": {
     "elapsed": 310,
     "status": "ok",
     "timestamp": 1622420403894,
     "user": {
      "displayName": "Nina Trubacheva",
      "photoUrl": "",
      "userId": "12178336938096721991"
     },
     "user_tz": -480
    },
    "id": "5YSXHagRyafc"
   },
   "outputs": [],
   "source": [
    "def sgd_gradient_descent(X, y, iterations, qty_in_batch, alpha):\n",
    "    W = np.random.randn(X.shape[0])\n",
    "    n = X.shape[1]\n",
    "    n_batch = n // qty_in_batch\n",
    "\n",
    "    if n % qty_in_batch != 0:\n",
    "        n_batch += 1\n",
    "    errs = []\n",
    "\n",
    "    for i in range(1, iterations+1):\n",
    "        for b in range(n_batch):\n",
    "            start_ = qty_in_batch*b\n",
    "            end_ = qty_in_batch*(b+1)\n",
    "        \n",
    "            X_tmp = X[:, start_ : end_]\n",
    "            y_tmp = y[start_ : end_]\n",
    "            y_pred_tmp = np.dot(W, X_tmp)\n",
    "            W -= (alpha * (1/n * 2 * np.dot((y_pred_tmp - y_tmp), X_tmp.T)))\n",
    "        errs.append(calc_mse(y_tmp, y_pred_tmp))\n",
    "\n",
    "    y_pred = np.dot(W, X_stand)\n",
    "    mse_ = (sum((y - y_pred)**2)) / len(y)\n",
    "\n",
    "    return W, mse_, errs"
   ]
  },
  {
   "cell_type": "code",
   "execution_count": 20,
   "metadata": {
    "colab": {
     "base_uri": "https://localhost:8080/"
    },
    "executionInfo": {
     "elapsed": 1663,
     "status": "ok",
     "timestamp": 1622420456430,
     "user": {
      "displayName": "Nina Trubacheva",
      "photoUrl": "",
      "userId": "12178336938096721991"
     },
     "user_tz": -480
    },
    "id": "HU0977bVyah8",
    "outputId": "ec356daf-e20e-4f39-9200-18e0366ff02a"
   },
   "outputs": [
    {
     "data": {
      "text/plain": [
       "25.30701604772961"
      ]
     },
     "execution_count": 20,
     "metadata": {},
     "output_type": "execute_result"
    }
   ],
   "source": [
    "W, mse_, errs = sgd_gradient_descent(X_stand, y, 1000, qty_in_batch=64, alpha=1e-2)\n",
    "mse_"
   ]
  },
  {
   "cell_type": "code",
   "execution_count": 21,
   "metadata": {
    "colab": {
     "base_uri": "https://localhost:8080/",
     "height": 312
    },
    "executionInfo": {
     "elapsed": 446,
     "status": "ok",
     "timestamp": 1622420469095,
     "user": {
      "displayName": "Nina Trubacheva",
      "photoUrl": "",
      "userId": "12178336938096721991"
     },
     "user_tz": -480
    },
    "id": "IDkqf4Fuy4tb",
    "outputId": "470cdac1-8c94-4750-a4c8-3460b00f891d"
   },
   "outputs": [
    {
     "data": {
      "text/plain": [
       "Text(0, 0.5, 'MSE')"
      ]
     },
     "execution_count": 21,
     "metadata": {},
     "output_type": "execute_result"
    },
    {
     "data": {
      "image/png": "[encoded data removed]",
      "text/plain": [
       "<Figure size 432x288 with 1 Axes>"
      ]
     },
     "metadata": {
      "needs_background": "light"
     },
     "output_type": "display_data"
    }
   ],
   "source": [
    "plt.plot(range(len(errs)), errs)\n",
    "plt.title('MSE')\n",
    "plt.xlabel('Iteration number')\n",
    "plt.ylabel('MSE')"
   ]
  },
  {
   "cell_type": "code",
   "execution_count": 22,
   "metadata": {
    "colab": {
     "base_uri": "https://localhost:8080/",
     "height": 714
    },
    "executionInfo": {
     "elapsed": 859,
     "status": "ok",
     "timestamp": 1622420477586,
     "user": {
      "displayName": "Nina Trubacheva",
      "photoUrl": "",
      "userId": "12178336938096721991"
     },
     "user_tz": -480
    },
    "id": "NGwsXvapy4vk",
    "outputId": "0e4f6508-c126-40e8-c039-94982a3a9583"
   },
   "outputs": [
    {
     "data": {
      "image/png": "[encoded data removed]",
      "text/plain": [
       "<Figure size 1368x864 with 1 Axes>"
      ]
     },
     "metadata": {
      "needs_background": "light"
     },
     "output_type": "display_data"
    }
   ],
   "source": [
    "plt.figure(figsize=(19, 12))\n",
    "plt.plot(range(len(errors)), errors, label=\"Градиентный спуск\")\n",
    "plt.plot(range(len(errs)), errs, label=\"Стохастический градиентный спуск\")\n",
    "plt.axis([0, 400, 0, 1500])\n",
    "plt.xlabel('Iteration number')\n",
    "plt.ylabel('MSE')\n",
    "plt.legend()\n",
    "plt.show()\n",
    "# Стохастический г. с. сходится быстрее"
   ]
  },
  {
   "cell_type": "code",
   "execution_count": 23,
   "metadata": {
    "executionInfo": {
     "elapsed": 290,
     "status": "ok",
     "timestamp": 1622420719552,
     "user": {
      "displayName": "Nina Trubacheva",
      "photoUrl": "",
      "userId": "12178336938096721991"
     },
     "user_tz": -480
    },
    "id": "s7kOVR4ly4yC"
   },
   "outputs": [],
   "source": [
    "def eval_model_reg2(X, y, iterations, alpha, lambda_):\n",
    "    np.random.seed(15)\n",
    "    W = np.random.randn(X.shape[0])\n",
    "    n = X.shape[1]\n",
    "\n",
    "    for i in range(1, iterations+1):\n",
    "        y_pred = np.dot(W, X)\n",
    "        err = calc_mse(y, y_pred)\n",
    "        W -= alpha * (1/n * 2 * np.dot((y_pred - y), X.T) + lambda_ * W) \n",
    "\n",
    "    if i % (iterations / 10) == 0:\n",
    "        print(i, W, err)\n",
    "\n",
    "    return W"
   ]
  },
  {
   "cell_type": "code",
   "execution_count": 24,
   "metadata": {
    "colab": {
     "base_uri": "https://localhost:8080/"
    },
    "executionInfo": {
     "elapsed": 1160,
     "status": "ok",
     "timestamp": 1622420726742,
     "user": {
      "displayName": "Nina Trubacheva",
      "photoUrl": "",
      "userId": "12178336938096721991"
     },
     "user_tz": -480
    },
    "id": "vce9nH8Azhg7",
    "outputId": "25fd6ca7-11f8-4bea-dba5-fa0a727b8f1e"
   },
   "outputs": [
    {
     "name": "stdout",
     "output_type": "stream",
     "text": [
      "5000 [-0.56613518 16.9711513  28.2168982 ] 25.307016826870147\n"
     ]
    },
    {
     "data": {
      "text/plain": [
       "array([-0.56613518, 16.9711513 , 28.2168982 ])"
      ]
     },
     "execution_count": 24,
     "metadata": {},
     "output_type": "execute_result"
    }
   ],
   "source": [
    "eval_model_reg2(X_stand, y, iterations=5000, alpha=1e-2, lambda_=1e-4)"
   ]
  },
  {
   "cell_type": "code",
   "execution_count": 25,
   "metadata": {
    "executionInfo": {
     "elapsed": 280,
     "status": "ok",
     "timestamp": 1622420748678,
     "user": {
      "displayName": "Nina Trubacheva",
      "photoUrl": "",
      "userId": "12178336938096721991"
     },
     "user_tz": -480
    },
    "id": "jNwaGqEnzhjV"
   },
   "outputs": [],
   "source": [
    "def gradient_descent_alpha_div_i_reg2(X, y, start_alpha, epsilon, lambda_):\n",
    "    lambda_=1e-8\n",
    "    n = X.shape[1]\n",
    "    W = np.random.randn(X.shape[0])\n",
    "    i=1\n",
    "    W_prev = np.array([])\n",
    "    err_prev = 0\n",
    "    err = 0\n",
    "    errors = []\n",
    "\n",
    "    while True:\n",
    "        W_prev = W.copy()\n",
    "        err_prev = err\n",
    "        y_pred = np.dot(W, X)\n",
    "        err = calc_mse(y, y_pred)\n",
    "        W -= start_alpha/i * (1/n * 2 * np.dot(X, (y_pred - y))+ lambda_ * W) \n",
    "        errors.append(err)\n",
    "\n",
    "        if np.sum(np.abs(W - W_prev)) < epsilon:\n",
    "            break\n",
    "        i+=1\n",
    "\n",
    "\n",
    "    return W_prev, err_prev"
   ]
  },
  {
   "cell_type": "code",
   "execution_count": 26,
   "metadata": {
    "colab": {
     "base_uri": "https://localhost:8080/"
    },
    "executionInfo": {
     "elapsed": 408,
     "status": "ok",
     "timestamp": 1622420853545,
     "user": {
      "displayName": "Nina Trubacheva",
      "photoUrl": "",
      "userId": "12178336938096721991"
     },
     "user_tz": -480
    },
    "id": "iRnA3mKCzhln",
    "outputId": "b14c76ca-8aaf-4ea3-ec7d-82ddea60c3fe"
   },
   "outputs": [
    {
     "data": {
      "text/plain": [
       "(array([-0.56616349, 16.97191461, 28.21826165]), 25.307014128719025)"
      ]
     },
     "execution_count": 26,
     "metadata": {},
     "output_type": "execute_result"
    }
   ],
   "source": [
    "gradient_descent_alpha_div_i_reg2(X_stand, y, start_alpha=1, epsilon = 0.00001, lambda_=1e-5)"
   ]
  },
  {
   "cell_type": "code",
   "execution_count": 27,
   "metadata": {
    "colab": {
     "base_uri": "https://localhost:8080/",
     "height": 616
    },
    "executionInfo": {
     "elapsed": 417,
     "status": "ok",
     "timestamp": 1622420871589,
     "user": {
      "displayName": "Nina Trubacheva",
      "photoUrl": "",
      "userId": "12178336938096721991"
     },
     "user_tz": -480
    },
    "id": "OWMs4aWLzhn1",
    "outputId": "d0133e94-dea9-4037-e5d1-d453c8b82174"
   },
   "outputs": [
    {
     "data": {
      "image/png": "[encoded data removed]",
      "text/plain": [
       "<Figure size 720x720 with 1 Axes>"
      ]
     },
     "metadata": {
      "needs_background": "light"
     },
     "output_type": "display_data"
    }
   ],
   "source": [
    "lambdas_list = np.logspace(-10, 5, 10)\n",
    "errors = []\n",
    "\n",
    "for i in lambdas_list:\n",
    "    weight, error = gradient_descent_alpha_div_i_reg2(X_stand, y, start_alpha=1, epsilon = 0.00001, lambda_=1e-4)\n",
    "    errors.append(error)\n",
    "\n",
    "\n",
    "plt.figure(figsize=(10, 10))\n",
    "plt.plot(lambdas_list, errors)\n",
    "plt.xlabel('lambdas')\n",
    "plt.ylabel('MSE')\n",
    "plt.show()"
   ]
  },
  {
   "cell_type": "code",
   "execution_count": 28,
   "metadata": {
    "executionInfo": {
     "elapsed": 294,
     "status": "ok",
     "timestamp": 1622420987808,
     "user": {
      "displayName": "Nina Trubacheva",
      "photoUrl": "",
      "userId": "12178336938096721991"
     },
     "user_tz": -480
    },
    "id": "JjEFSQKzzhqE"
   },
   "outputs": [],
   "source": [
    "# 3.\n",
    "\n",
    "def gradient_descent_alpha_div_i_reg1(X, y, start_alpha, epsilon, lambda_):\n",
    "    n = X.shape[1]\n",
    "    W = np.random.randn(X.shape[0])\n",
    "    i=1\n",
    "    W_prev = np.array([])\n",
    "    err_prev = 0\n",
    "    err = 0\n",
    "    errors = []\n",
    "\n",
    "    while True:\n",
    "        W_prev = W.copy()\n",
    "        err_prev = err\n",
    "        y_pred = np.dot(W, X)\n",
    "        err = calc_mse(y, y_pred)\n",
    "        W -= start_alpha/i * (1/n * 2 * np.dot(X, (y_pred - y))+ lambda_ * np.sign(W)) \n",
    "        errors.append(err)\n",
    "\n",
    "        if np.sum(np.abs(W - W_prev)) < epsilon:\n",
    "            break\n",
    "        i+=1\n",
    "   \n",
    "    return W_prev, err_prev"
   ]
  },
  {
   "cell_type": "code",
   "execution_count": 29,
   "metadata": {
    "colab": {
     "base_uri": "https://localhost:8080/"
    },
    "executionInfo": {
     "elapsed": 287,
     "status": "ok",
     "timestamp": 1622420989741,
     "user": {
      "displayName": "Nina Trubacheva",
      "photoUrl": "",
      "userId": "12178336938096721991"
     },
     "user_tz": -480
    },
    "id": "9VGyY_69zhsT",
    "outputId": "d0e1839e-638f-48a4-ec0a-e76e39615ea1"
   },
   "outputs": [
    {
     "data": {
      "text/plain": [
       "(array([-0.56615849, 16.97190619, 28.21825102]), 25.30701413169353)"
      ]
     },
     "execution_count": 29,
     "metadata": {},
     "output_type": "execute_result"
    }
   ],
   "source": [
    "gradient_descent_alpha_div_i_reg1(X_stand, y, start_alpha=1, epsilon = 0.00001, lambda_=1e-5)"
   ]
  },
  {
   "cell_type": "code",
   "execution_count": 30,
   "metadata": {
    "colab": {
     "base_uri": "https://localhost:8080/",
     "height": 616
    },
    "executionInfo": {
     "elapsed": 530,
     "status": "ok",
     "timestamp": 1622421034284,
     "user": {
      "displayName": "Nina Trubacheva",
      "photoUrl": "",
      "userId": "12178336938096721991"
     },
     "user_tz": -480
    },
    "id": "0M7pG_Aw08uk",
    "outputId": "e5ff812e-1530-4b99-b9cf-eebef1d1ed19"
   },
   "outputs": [
    {
     "data": {
      "image/png": "[encoded data removed]",
      "text/plain": [
       "<Figure size 720x720 with 1 Axes>"
      ]
     },
     "metadata": {
      "needs_background": "light"
     },
     "output_type": "display_data"
    }
   ],
   "source": [
    "lambdas_list = np.logspace(-10, 1, 10)\n",
    "errors = []\n",
    "for i in lambdas_list:\n",
    "    weight, error = gradient_descent_alpha_div_i_reg1(X_stand, y, start_alpha=1, epsilon = 0.00001, lambda_=1e-4)\n",
    "    errors.append(error)\n",
    "\n",
    "\n",
    "plt.figure(figsize=(10, 10))\n",
    "plt.plot(lambdas_list, errors)\n",
    "plt.xlabel('lambdas')\n",
    "plt.ylabel('MSE')\n",
    "plt.show()"
   ]
  }
 ],
 "metadata": {
  "colab": {
   "authorship_tag": "ABX9TyNQnRX6yPuLQqg/hj9p/0OH",
   "collapsed_sections": [],
   "name": "lesson 2.ipynb",
   "provenance": []
  },
  "kernelspec": {
   "display_name": "Python 3",
   "language": "python",
   "name": "python3"
  },
  "language_info": {
   "codemirror_mode": {
    "name": "ipython",
    "version": 3
   },
   "file_extension": ".py",
   "mimetype": "text/x-python",
   "name": "python",
   "nbconvert_exporter": "python",
   "pygments_lexer": "ipython3",
   "version": "3.8.5"
  }
 },
 "nbformat": 4,
 "nbformat_minor": 1
}
