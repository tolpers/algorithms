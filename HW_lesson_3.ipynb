{
 "cells": [
  {
   "cell_type": "markdown",
   "metadata": {},
   "source": [
    "### HW_lesson_3"
   ]
  },
  {
   "cell_type": "code",
   "execution_count": 1,
   "metadata": {
    "executionInfo": {
     "elapsed": 773,
     "status": "ok",
     "timestamp": 1623032160921,
     "user": {
      "displayName": "Nina Trubacheva",
      "photoUrl": "",
      "userId": "12178336938096721991"
     },
     "user_tz": -480
    },
    "id": "QZbID4i6QDiH"
   },
   "outputs": [],
   "source": [
    "import numpy as np\n",
    "\n",
    "from sklearn.preprocessing import MinMaxScaler\n",
    "from sklearn.linear_model import LinearRegression\n",
    "from sklearn.metrics import mean_squared_error"
   ]
  },
  {
   "cell_type": "markdown",
   "metadata": {
    "id": "3u1MZ1LeQLqL"
   },
   "source": [
    "#### Задание 1.\n",
    "Измените функцию calc_logloss так, чтобы нули по возможности не попадали в np.log."
   ]
  },
  {
   "cell_type": "code",
   "execution_count": 2,
   "metadata": {
    "executionInfo": {
     "elapsed": 297,
     "status": "ok",
     "timestamp": 1623032203455,
     "user": {
      "displayName": "Nina Trubacheva",
      "photoUrl": "",
      "userId": "12178336938096721991"
     },
     "user_tz": -480
    },
    "id": "MgEojUSMQT5_"
   },
   "outputs": [],
   "source": [
    "def calc_logloss(y, y_pred):\n",
    "\n",
    "    for i in range(len(y_pred)):\n",
    "\n",
    "        if y_pred[i] == 0:\n",
    "            y_pred[i] += 1e-10\n",
    "        elif y_pred[i] == 1:\n",
    "            y_pred[i] -= 1e-10\n",
    "            \n",
    "    err = - np.mean(y * np.log(y_pred) + (1.0 - y) * np.log(1.0 - y_pred))\n",
    "    return err"
   ]
  },
  {
   "cell_type": "markdown",
   "metadata": {
    "id": "9z5T_FlkQm6u"
   },
   "source": [
    "#### Задание 2.\n",
    "Подберите аргументы функции eval_model для логистической регрессии таким образом, чтобы log loss был минимальным."
   ]
  },
  {
   "cell_type": "code",
   "execution_count": 3,
   "metadata": {
    "executionInfo": {
     "elapsed": 305,
     "status": "ok",
     "timestamp": 1623032240944,
     "user": {
      "displayName": "Nina Trubacheva",
      "photoUrl": "",
      "userId": "12178336938096721991"
     },
     "user_tz": -480
    },
    "id": "TOiN2kPUQT8v"
   },
   "outputs": [],
   "source": [
    "X = np.array([[1, 1, 1, 1, 1, 1, 1, 1, 1, 1],\n",
    "              [1, 1, 2, 1, 3, 0, 5, 10, 1, 2],\n",
    "              [500, 700, 750, 600, 1450, 800, 1500, 2000, 450, 1000],\n",
    "              [1, 1, 2, 1, 2, 1, 3, 3, 1, 2]], dtype = np.float64)\n",
    "\n",
    "y = np.array([0, 0, 1, 0, 1, 0, 1, 0, 1, 1], dtype = np.float64)"
   ]
  },
  {
   "cell_type": "code",
   "execution_count": 4,
   "metadata": {
    "executionInfo": {
     "elapsed": 343,
     "status": "ok",
     "timestamp": 1623032263570,
     "user": {
      "displayName": "Nina Trubacheva",
      "photoUrl": "",
      "userId": "12178336938096721991"
     },
     "user_tz": -480
    },
    "id": "vZ6bZjqcQT_S"
   },
   "outputs": [],
   "source": [
    "def robust_scale(X):\n",
    "\n",
    "    X_rob = X.copy().astype(np.float64)\n",
    "\n",
    "    for i in range(X.shape[0]):\n",
    "        if i == 0:\n",
    "            continue\n",
    "\n",
    "        percentiles = np.percentile(X[i], (30.0, 80.0))\n",
    "        X_rob[i] = (X[i] - np.median(X[i])) / percentiles[1] - percentiles[0]\n",
    "\n",
    "    return X_rob"
   ]
  },
  {
   "cell_type": "code",
   "execution_count": 5,
   "metadata": {
    "colab": {
     "base_uri": "https://localhost:8080/"
    },
    "executionInfo": {
     "elapsed": 309,
     "status": "ok",
     "timestamp": 1623032266593,
     "user": {
      "displayName": "Nina Trubacheva",
      "photoUrl": "",
      "userId": "12178336938096721991"
     },
     "user_tz": -480
    },
    "id": "7N7t6uqNQUBX",
    "outputId": "0611da38-d755-4c8c-9730-c144f7b7e9f1"
   },
   "outputs": [
    {
     "data": {
      "text/plain": [
       "array([[ 1.00000000e+00,  1.00000000e+00,  1.00000000e+00,\n",
       "         1.00000000e+00,  1.00000000e+00,  1.00000000e+00,\n",
       "         1.00000000e+00,  1.00000000e+00,  1.00000000e+00,\n",
       "         1.00000000e+00],\n",
       "       [-1.14705882e+00, -1.14705882e+00, -8.52941176e-01,\n",
       "        -1.14705882e+00, -5.58823529e-01, -1.44117647e+00,\n",
       "         2.94117647e-02,  1.50000000e+00, -1.14705882e+00,\n",
       "        -8.52941176e-01],\n",
       "       [-6.70188356e+02, -6.70051370e+02, -6.70017123e+02,\n",
       "        -6.70119863e+02, -6.69537671e+02, -6.69982877e+02,\n",
       "        -6.69503425e+02, -6.69160959e+02, -6.70222603e+02,\n",
       "        -6.69845890e+02],\n",
       "       [-1.22727273e+00, -1.22727273e+00, -7.72727273e-01,\n",
       "        -1.22727273e+00, -7.72727273e-01, -1.22727273e+00,\n",
       "        -3.18181818e-01, -3.18181818e-01, -1.22727273e+00,\n",
       "        -7.72727273e-01]])"
      ]
     },
     "execution_count": 5,
     "metadata": {},
     "output_type": "execute_result"
    }
   ],
   "source": [
    "X_rob = robust_scale(X)\n",
    "X_rob"
   ]
  },
  {
   "cell_type": "code",
   "execution_count": 6,
   "metadata": {
    "executionInfo": {
     "elapsed": 289,
     "status": "ok",
     "timestamp": 1623032276152,
     "user": {
      "displayName": "Nina Trubacheva",
      "photoUrl": "",
      "userId": "12178336938096721991"
     },
     "user_tz": -480
    },
    "id": "WX_O3CZTQUD0"
   },
   "outputs": [],
   "source": [
    "def sigmoid(z):\n",
    "    result = 1 / (1 + np.exp(-z))\n",
    "    return result"
   ]
  },
  {
   "cell_type": "code",
   "execution_count": 7,
   "metadata": {
    "executionInfo": {
     "elapsed": 309,
     "status": "ok",
     "timestamp": 1623032294042,
     "user": {
      "displayName": "Nina Trubacheva",
      "photoUrl": "",
      "userId": "12178336938096721991"
     },
     "user_tz": -480
    },
    "id": "pbWfbDBFQyeS"
   },
   "outputs": [],
   "source": [
    "def eval_model(X, y, iterations, alpha=1e-4):\n",
    "    np.random.seed(42)\n",
    "    W = np.random.randn(X.shape[0])\n",
    "    n = X.shape[1]\n",
    "    for i in range(1, iterations+1):\n",
    "        z = np.dot(W, X)\n",
    "        y_pred = sigmoid(z)\n",
    "        err = calc_logloss(y, y_pred)\n",
    "        W -= alpha * (1/n * np.dot((y_pred - y), X.T))\n",
    "    #if i % (iterations / 10) == 0:\n",
    "        #print(i, W, err)\n",
    "    return (i, W, err)"
   ]
  },
  {
   "cell_type": "code",
   "execution_count": 8,
   "metadata": {
    "colab": {
     "base_uri": "https://localhost:8080/"
    },
    "executionInfo": {
     "elapsed": 296,
     "status": "ok",
     "timestamp": 1623032299874,
     "user": {
      "displayName": "Nina Trubacheva",
      "photoUrl": "",
      "userId": "12178336938096721991"
     },
     "user_tz": -480
    },
    "id": "ZRe5_UyOQyg5",
    "outputId": "dcf70c3f-93ae-4683-ddca-60562858b940"
   },
   "outputs": [
    {
     "data": {
      "text/plain": [
       "(1000,\n",
       " array([ 4.97682736e-01, -1.39483974e-01, -1.18747032e-03,  1.52252378e+00]),\n",
       " 0.6138006623424344)"
      ]
     },
     "execution_count": 8,
     "metadata": {},
     "output_type": "execute_result"
    }
   ],
   "source": [
    "W = eval_model(X_rob, y, iterations=1000, alpha=1e-5)\n",
    "W"
   ]
  },
  {
   "cell_type": "code",
   "execution_count": 9,
   "metadata": {
    "executionInfo": {
     "elapsed": 294,
     "status": "ok",
     "timestamp": 1623032335609,
     "user": {
      "displayName": "Nina Trubacheva",
      "photoUrl": "",
      "userId": "12178336938096721991"
     },
     "user_tz": -480
    },
    "id": "52nPmYiWQyjB"
   },
   "outputs": [],
   "source": [
    "def gradient_descent_optimal_alpha(X, y, epsilon):\n",
    "    err_border = float('inf')\n",
    "    for alpha in np.linspace(1e-7, 1e-2, num = 1000):\n",
    "        i, W, err = eval_model(X, y, iterations=1000, alpha=alpha)\n",
    "        if (err < err_border):\n",
    "            i_border = i\n",
    "            W_border = W\n",
    "            err_border = err\n",
    "            alpha_border = alpha\n",
    "    print(f\"Заданная точность: {epsilon}\\nКоличество итераций = {i_border}\\nСкорость обучения = {alpha_border}\\nW = {W_border} \\nlogloss = {err_border}\")\n",
    "    return W_border"
   ]
  },
  {
   "cell_type": "code",
   "execution_count": 10,
   "metadata": {
    "colab": {
     "base_uri": "https://localhost:8080/"
    },
    "executionInfo": {
     "elapsed": 39127,
     "status": "ok",
     "timestamp": 1623032377633,
     "user": {
      "displayName": "Nina Trubacheva",
      "photoUrl": "",
      "userId": "12178336938096721991"
     },
     "user_tz": -480
    },
    "id": "P1oMG5ifQyll",
    "outputId": "7352c73f-4dee-41aa-a67b-60d278e515bf"
   },
   "outputs": [
    {
     "name": "stdout",
     "output_type": "stream",
     "text": [
      "Заданная точность: 0.0001\n",
      "Количество итераций = 1000\n",
      "Скорость обучения = 1.0109909909909911e-05\n",
      "W = [ 4.97682734e-01 -1.39491656e-01 -1.18746688e-03  1.52252710e+00] \n",
      "logloss = 0.6138000261349721\n"
     ]
    }
   ],
   "source": [
    "W1 = gradient_descent_optimal_alpha(X_rob, y, 1e-4)"
   ]
  },
  {
   "cell_type": "markdown",
   "metadata": {
    "id": "z0w0ZqwRRM7r"
   },
   "source": [
    "#### Задание 3.\n",
    "Создайте функцию calc_pred_proba, возвращающую предсказанную вероятность класса 1 (на вход подаются W, который уже посчитан функцией eval_model и X, на выходе - массив y_pred_proba)."
   ]
  },
  {
   "cell_type": "code",
   "execution_count": 11,
   "metadata": {
    "executionInfo": {
     "elapsed": 293,
     "status": "ok",
     "timestamp": 1623032413939,
     "user": {
      "displayName": "Nina Trubacheva",
      "photoUrl": "",
      "userId": "12178336938096721991"
     },
     "user_tz": -480
    },
    "id": "I6EGbQBbQyn6"
   },
   "outputs": [],
   "source": [
    "def calc_pred_proba(W, X):\n",
    "    y_pred_proba = 1 / (1 + np.exp(-np.dot(W, X)))\n",
    "    return y_pred_proba"
   ]
  },
  {
   "cell_type": "code",
   "execution_count": 12,
   "metadata": {
    "colab": {
     "base_uri": "https://localhost:8080/"
    },
    "executionInfo": {
     "elapsed": 4,
     "status": "ok",
     "timestamp": 1623032416927,
     "user": {
      "displayName": "Nina Trubacheva",
      "photoUrl": "",
      "userId": "12178336938096721991"
     },
     "user_tz": -480
    },
    "id": "gc3Bmu12QyqP",
    "outputId": "3d0fc360-a404-4cd9-be28-507b015bcac9"
   },
   "outputs": [
    {
     "data": {
      "text/plain": [
       "array([0.39770385, 0.39766489, 0.55867488, 0.39768437, 0.5483954 ,\n",
       "       0.40751238, 0.69086209, 0.64533853, 0.39771359, 0.55862474])"
      ]
     },
     "execution_count": 12,
     "metadata": {},
     "output_type": "execute_result"
    }
   ],
   "source": [
    "calc_pred_proba(W1,X_rob)"
   ]
  },
  {
   "cell_type": "markdown",
   "metadata": {
    "id": "yniePqpzRZcn"
   },
   "source": [
    "#### Задание 4.\n",
    "Создайте функцию calc_pred, возвращающую предсказанный класс (на вход подаются W, который уже посчитан функцией eval_model и X, на выходе - массив y_pred)."
   ]
  },
  {
   "cell_type": "code",
   "execution_count": 13,
   "metadata": {
    "executionInfo": {
     "elapsed": 287,
     "status": "ok",
     "timestamp": 1623032447790,
     "user": {
      "displayName": "Nina Trubacheva",
      "photoUrl": "",
      "userId": "12178336938096721991"
     },
     "user_tz": -480
    },
    "id": "5sJNdORKRU72"
   },
   "outputs": [],
   "source": [
    "def calc_pred(W, X, border=0.6):\n",
    "    y_pred_proba = calc_pred_proba(W, X)\n",
    "    y_pred_proba = y_pred_proba.copy()\n",
    "    y_pred_proba[y_pred_proba >= border] = 1\n",
    "    y_pred_proba[y_pred_proba < border] = 0\n",
    "    return y_pred_proba"
   ]
  },
  {
   "cell_type": "code",
   "execution_count": 14,
   "metadata": {
    "colab": {
     "base_uri": "https://localhost:8080/"
    },
    "executionInfo": {
     "elapsed": 308,
     "status": "ok",
     "timestamp": 1623032453611,
     "user": {
      "displayName": "Nina Trubacheva",
      "photoUrl": "",
      "userId": "12178336938096721991"
     },
     "user_tz": -480
    },
    "id": "EElDaVsTRU-K",
    "outputId": "d9a488dc-fe01-4169-bb98-414dc575d68d"
   },
   "outputs": [
    {
     "data": {
      "text/plain": [
       "array([0., 0., 0., 0., 0., 0., 1., 1., 0., 0.])"
      ]
     },
     "execution_count": 14,
     "metadata": {},
     "output_type": "execute_result"
    }
   ],
   "source": [
    "Y_pred = calc_pred(W1, X_rob, border=0.6)\n",
    "Y_pred"
   ]
  },
  {
   "cell_type": "markdown",
   "metadata": {
    "id": "JQz1FJIzRgYi"
   },
   "source": [
    "#### Задание 5.\n",
    "Посчитайте Accuracy, матрицу ошибок, точность и полноту, а также F1 score."
   ]
  },
  {
   "cell_type": "code",
   "execution_count": 15,
   "metadata": {
    "executionInfo": {
     "elapsed": 291,
     "status": "ok",
     "timestamp": 1623032473599,
     "user": {
      "displayName": "Nina Trubacheva",
      "photoUrl": "",
      "userId": "12178336938096721991"
     },
     "user_tz": -480
    },
    "id": "QxjqIBxZRVAg"
   },
   "outputs": [],
   "source": [
    "def accuracy(y, y_pred):\n",
    "    res = (y_pred == y).sum()/len(y)\n",
    "    return res"
   ]
  },
  {
   "cell_type": "code",
   "execution_count": 16,
   "metadata": {
    "colab": {
     "base_uri": "https://localhost:8080/"
    },
    "executionInfo": {
     "elapsed": 297,
     "status": "ok",
     "timestamp": 1623032479462,
     "user": {
      "displayName": "Nina Trubacheva",
      "photoUrl": "",
      "userId": "12178336938096721991"
     },
     "user_tz": -480
    },
    "id": "bn7ZNxfcRVD1",
    "outputId": "145de061-6d44-4e22-802a-651954c0a067"
   },
   "outputs": [
    {
     "data": {
      "text/plain": [
       "0.5"
      ]
     },
     "execution_count": 16,
     "metadata": {},
     "output_type": "execute_result"
    }
   ],
   "source": [
    "accuracy(y, Y_pred)"
   ]
  },
  {
   "cell_type": "code",
   "execution_count": 17,
   "metadata": {
    "executionInfo": {
     "elapsed": 289,
     "status": "ok",
     "timestamp": 1623032490370,
     "user": {
      "displayName": "Nina Trubacheva",
      "photoUrl": "",
      "userId": "12178336938096721991"
     },
     "user_tz": -480
    },
    "id": "JP0OghTBRkW0"
   },
   "outputs": [],
   "source": [
    "def error_matrix(y, y_pred):\n",
    "    TP = y[(y - y_pred) == 0].sum()\n",
    "    FP = ((y - y_pred) == -1).sum()\n",
    "    FN = ((y - y_pred) == 1).sum()\n",
    "    TN = (y[(y - y_pred) == 0]==0).sum()\n",
    "    \n",
    "    return np.array([[TP, FP], \n",
    "                     [FN, TN]])"
   ]
  },
  {
   "cell_type": "code",
   "execution_count": 18,
   "metadata": {
    "colab": {
     "base_uri": "https://localhost:8080/"
    },
    "executionInfo": {
     "elapsed": 2,
     "status": "ok",
     "timestamp": 1623032499240,
     "user": {
      "displayName": "Nina Trubacheva",
      "photoUrl": "",
      "userId": "12178336938096721991"
     },
     "user_tz": -480
    },
    "id": "t6PYa_z5RkjK",
    "outputId": "cfae9909-a572-4823-9cdd-bc1d14d8d598"
   },
   "outputs": [
    {
     "data": {
      "text/plain": [
       "array([[1., 1.],\n",
       "       [4., 4.]])"
      ]
     },
     "execution_count": 18,
     "metadata": {},
     "output_type": "execute_result"
    }
   ],
   "source": [
    "EM = error_matrix(y, Y_pred)\n",
    "EM"
   ]
  },
  {
   "cell_type": "code",
   "execution_count": 19,
   "metadata": {
    "executionInfo": {
     "elapsed": 321,
     "status": "ok",
     "timestamp": 1623032506948,
     "user": {
      "displayName": "Nina Trubacheva",
      "photoUrl": "",
      "userId": "12178336938096721991"
     },
     "user_tz": -480
    },
    "id": "cl8FrSlYRVFP"
   },
   "outputs": [],
   "source": [
    "def precision_recall_F1(y, y_pred):\n",
    "    TP = EM[0,0]\n",
    "    FP = EM[0,1]\n",
    "    FN = EM[1,0]\n",
    "    TN = EM[1,1]\n",
    "    \n",
    "    precision = TP / (TP + FP)\n",
    "    recall = TP / (TP + FN)\n",
    "    F1 = 2 * precision * recall / (precision + recall)\n",
    "    \n",
    "    return precision, recall, F1"
   ]
  },
  {
   "cell_type": "code",
   "execution_count": 20,
   "metadata": {
    "colab": {
     "base_uri": "https://localhost:8080/"
    },
    "executionInfo": {
     "elapsed": 325,
     "status": "ok",
     "timestamp": 1623032516346,
     "user": {
      "displayName": "Nina Trubacheva",
      "photoUrl": "",
      "userId": "12178336938096721991"
     },
     "user_tz": -480
    },
    "id": "MvK6PLDmRqyl",
    "outputId": "5ec04bdd-6acc-4fca-cb0f-41274610c761"
   },
   "outputs": [
    {
     "data": {
      "text/plain": [
       "(0.5, 0.2, 0.28571428571428575)"
      ]
     },
     "execution_count": 20,
     "metadata": {},
     "output_type": "execute_result"
    }
   ],
   "source": [
    "precision_recall_F1(y, Y_pred)"
   ]
  },
  {
   "cell_type": "markdown",
   "metadata": {
    "id": "MlXQSudOR0L4"
   },
   "source": [
    "#### Задание 6.\n",
    "Могла ли модель переобучиться? Почему?"
   ]
  },
  {
   "cell_type": "markdown",
   "metadata": {},
   "source": [
    "Модель могла переобучиться т.к. в модели классификации признаки могут пересекаться, что приводит к переобучению модели."
   ]
  }
 ],
 "metadata": {
  "colab": {
   "authorship_tag": "ABX9TyMoSDSjPdJ+zKDPG89wj/0X",
   "collapsed_sections": [],
   "name": "3.ipynb",
   "provenance": []
  },
  "kernelspec": {
   "display_name": "Python 3",
   "language": "python",
   "name": "python3"
  },
  "language_info": {
   "codemirror_mode": {
    "name": "ipython",
    "version": 3
   },
   "file_extension": ".py",
   "mimetype": "text/x-python",
   "name": "python",
   "nbconvert_exporter": "python",
   "pygments_lexer": "ipython3",
   "version": "3.8.5"
  }
 },
 "nbformat": 4,
 "nbformat_minor": 1
}
