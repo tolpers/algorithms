{
 "cells": [
  {
   "cell_type": "markdown",
   "metadata": {},
   "source": [
    "### HW_lesson_6"
   ]
  },
  {
   "cell_type": "markdown",
   "metadata": {},
   "source": [
    "#### Задание 1. \n",
    "Для реализованной в методичке модели градиентного бустинга построить графики зависимости ошибки от количества деревьев в ансамбле и от максимальной глубины деревьев. Сделать выводы о зависимости ошибки от этих параметров."
   ]
  },
  {
   "cell_type": "code",
   "execution_count": 1,
   "metadata": {
    "executionInfo": {
     "elapsed": 274,
     "status": "ok",
     "timestamp": 1623583532815,
     "user": {
      "displayName": "Nina Trubacheva",
      "photoUrl": "",
      "userId": "12178336938096721991"
     },
     "user_tz": -480
    },
    "id": "5SPCMdyFGx2L"
   },
   "outputs": [],
   "source": [
    "from sklearn.tree import DecisionTreeRegressor\n",
    "from sklearn.datasets import load_boston\n",
    "from sklearn import model_selection\n",
    "import numpy as np\n",
    "\n",
    "\n",
    "import matplotlib.pyplot as plt\n",
    "import matplotlib\n",
    "%matplotlib inline"
   ]
  },
  {
   "cell_type": "code",
   "execution_count": 2,
   "metadata": {
    "executionInfo": {
     "elapsed": 283,
     "status": "ok",
     "timestamp": 1623583434541,
     "user": {
      "displayName": "Nina Trubacheva",
      "photoUrl": "",
      "userId": "12178336938096721991"
     },
     "user_tz": -480
    },
    "id": "5LyYtF-NHIoi"
   },
   "outputs": [],
   "source": [
    "X, y = load_boston(return_X_y=True)"
   ]
  },
  {
   "cell_type": "code",
   "execution_count": 3,
   "metadata": {
    "executionInfo": {
     "elapsed": 346,
     "status": "ok",
     "timestamp": 1623583452118,
     "user": {
      "displayName": "Nina Trubacheva",
      "photoUrl": "",
      "userId": "12178336938096721991"
     },
     "user_tz": -480
    },
    "id": "bCH1HC1AHSp2"
   },
   "outputs": [],
   "source": [
    "X_train, X_test, y_train, y_test = model_selection.train_test_split(X, y, test_size=0.25)"
   ]
  },
  {
   "cell_type": "code",
   "execution_count": 4,
   "metadata": {
    "executionInfo": {
     "elapsed": 290,
     "status": "ok",
     "timestamp": 1623583465875,
     "user": {
      "displayName": "Nina Trubacheva",
      "photoUrl": "",
      "userId": "12178336938096721991"
     },
     "user_tz": -480
    },
    "id": "4a3eBLEYHSsN"
   },
   "outputs": [],
   "source": [
    "def gb_predict(X, trees_list, coef_list, eta):\n",
    "    # Реализуемый алгоритм градиентного бустинга будет инициализироваться нулевыми значениями,\n",
    "    # поэтому все деревья из списка trees_list уже являются дополнительными и при предсказании прибавляются с шагом eta\n",
    "    return np.array([sum([eta* coef * alg.predict([x])[0] for alg, coef in zip(trees_list, coef_list)]) for x in X])"
   ]
  },
  {
   "cell_type": "code",
   "execution_count": 5,
   "metadata": {
    "executionInfo": {
     "elapsed": 317,
     "status": "ok",
     "timestamp": 1623583477282,
     "user": {
      "displayName": "Nina Trubacheva",
      "photoUrl": "",
      "userId": "12178336938096721991"
     },
     "user_tz": -480
    },
    "id": "7eHhdpWWHSu-"
   },
   "outputs": [],
   "source": [
    "def mean_squared_error(y_real, prediction):\n",
    "    return (sum((y_real - prediction)**2)) / len(y_real)"
   ]
  },
  {
   "cell_type": "markdown",
   "metadata": {
    "id": "ZKGZRkjkHgma"
   },
   "source": [
    "Используем $L_{2}$ loss $L(y, z) = (y-z)^{2},$ ее производная по $z$ примет вид $L'(y, z) = 2(z-y)$. Реализуем ее также в виде функции (коэффициент 2 можно отбросить)."
   ]
  },
  {
   "cell_type": "code",
   "execution_count": 6,
   "metadata": {
    "executionInfo": {
     "elapsed": 293,
     "status": "ok",
     "timestamp": 1623583504323,
     "user": {
      "displayName": "Nina Trubacheva",
      "photoUrl": "",
      "userId": "12178336938096721991"
     },
     "user_tz": -480
    },
    "id": "rTx-6xFDHc2y"
   },
   "outputs": [],
   "source": [
    "def bias(y, z):\n",
    "    return (y - z)"
   ]
  },
  {
   "cell_type": "code",
   "execution_count": 7,
   "metadata": {
    "executionInfo": {
     "elapsed": 298,
     "status": "ok",
     "timestamp": 1623583513952,
     "user": {
      "displayName": "Nina Trubacheva",
      "photoUrl": "",
      "userId": "12178336938096721991"
     },
     "user_tz": -480
    },
    "id": "r2UOC961Hc5Q"
   },
   "outputs": [],
   "source": [
    "def gb_fit(n_trees, max_depth, X_train, X_test, y_train, y_test, coefs, eta):\n",
    "    \n",
    "    # Деревья будем записывать в список\n",
    "    trees = []\n",
    "    \n",
    "    # Будем записывать ошибки на обучающей и тестовой выборке на каждой итерации в список\n",
    "    train_errors = []\n",
    "    test_errors = []\n",
    "    \n",
    "    for i in range(n_trees):\n",
    "        tree = DecisionTreeRegressor(max_depth=max_depth, random_state=42)\n",
    "\n",
    "        # инициализируем бустинг начальным алгоритмом, возвращающим ноль, \n",
    "        # поэтому первый алгоритм просто обучаем на выборке и добавляем в список\n",
    "        if len(trees) == 0:\n",
    "            # обучаем первое дерево на обучающей выборке\n",
    "            tree.fit(X_train, y_train)\n",
    "            train_errors.append(mean_squared_error(y_train, gb_predict(X_train, trees, coefs, eta)))\n",
    "            test_errors.append(mean_squared_error(y_test, gb_predict(X_test, trees, coefs, eta)))\n",
    "        else:\n",
    "            # Получим ответы на текущей композиции\n",
    "            target = gb_predict(X_train, trees, coefs, eta)\n",
    "            \n",
    "            # алгоритмы начиная со второго обучаем на сдвиг\n",
    "            tree.fit(X_train, bias(y_train, target))\n",
    "            \n",
    "            train_errors.append(mean_squared_error(y_train, gb_predict(X_train, trees, coefs, eta)))\n",
    "            test_errors.append(mean_squared_error(y_test, gb_predict(X_test, trees, coefs, eta)))\n",
    "\n",
    "        trees.append(tree)\n",
    "        \n",
    "    return trees, train_errors, test_errors"
   ]
  },
  {
   "cell_type": "code",
   "execution_count": 8,
   "metadata": {
    "colab": {
     "base_uri": "https://localhost:8080/",
     "height": 279
    },
    "executionInfo": {
     "elapsed": 601273,
     "status": "ok",
     "timestamp": 1623584161083,
     "user": {
      "displayName": "Nina Trubacheva",
      "photoUrl": "",
      "userId": "12178336938096721991"
     },
     "user_tz": -480
    },
    "id": "5_SByAIzHc8A",
    "outputId": "a32a995e-0764-4ce5-af87-329808e3b56c"
   },
   "outputs": [
    {
     "data": {
      "image/png": "[encoded data removed]",
      "text/plain": [
       "<Figure size 432x288 with 1 Axes>"
      ]
     },
     "metadata": {
      "needs_background": "light"
     },
     "output_type": "display_data"
    }
   ],
   "source": [
    "# Построим график зависимости ошибки от количества деревьев в ансамбле\n",
    "m_trees = [1, 5, 10, 20, 50, 100]\n",
    "max_depth = 3\n",
    "eta = 0.1\n",
    "\n",
    "pl_train = []\n",
    "pl_test = []\n",
    "\n",
    "for m_tree in m_trees:\n",
    "    coefs = [1] * m_tree\n",
    "    trees, train_errors, test_errors = gb_fit(m_tree, max_depth, X_train, X_test, y_train, y_test, coefs, eta)\n",
    "\n",
    "    pl_train.append(mean_squared_error(y_train, gb_predict(X_train, trees, coefs, eta)))\n",
    "    pl_test.append(mean_squared_error(y_test, gb_predict(X_test, trees, coefs, eta)))\n",
    "    \n",
    "plt.xlabel('Trees')\n",
    "plt.ylabel('MSE')\n",
    "plt.plot(m_trees, pl_train, label='train')\n",
    "plt.plot(m_trees, pl_test, label='test')\n",
    "plt.legend(loc='upper right')\n",
    "plt.show()"
   ]
  },
  {
   "cell_type": "code",
   "execution_count": 9,
   "metadata": {
    "colab": {
     "base_uri": "https://localhost:8080/",
     "height": 279
    },
    "executionInfo": {
     "elapsed": 367676,
     "status": "ok",
     "timestamp": 1623584989335,
     "user": {
      "displayName": "Nina Trubacheva",
      "photoUrl": "",
      "userId": "12178336938096721991"
     },
     "user_tz": -480
    },
    "id": "suEzqcvcHc-M",
    "outputId": "f18d0383-185e-47aa-815e-69d3926c60b2"
   },
   "outputs": [
    {
     "data": {
      "image/png": "[encoded data removed]",
      "text/plain": [
       "<Figure size 432x288 with 1 Axes>"
      ]
     },
     "metadata": {
      "needs_background": "light"
     },
     "output_type": "display_data"
    }
   ],
   "source": [
    "# Построим график зависимости ошибки от максимальной глубины деревьев\n",
    "m_trees = 20\n",
    "m_depths = list(range(1, 21))\n",
    "eta = 0.1\n",
    "\n",
    "pl_train = []\n",
    "pl_test = []\n",
    "\n",
    "for m_depth in m_depths:\n",
    "    coefs = [1] * m_trees\n",
    "    trees, train_errors, test_errors = gb_fit(m_trees, m_depth, X_train, X_test, y_train, y_test, coefs, eta)\n",
    "\n",
    "    pl_train.append(mean_squared_error(y_train, gb_predict(X_train, trees, coefs, eta)))\n",
    "    pl_test.append(mean_squared_error(y_test, gb_predict(X_test, trees, coefs, eta)))\n",
    "    \n",
    "plt.xlabel('Depth')\n",
    "plt.ylabel('MSE')\n",
    "plt.plot(m_depths, pl_train, label='train')\n",
    "plt.plot(m_depths, pl_test, label='test')\n",
    "plt.legend(loc='upper right')\n",
    "plt.show()"
   ]
  },
  {
   "cell_type": "markdown",
   "metadata": {
    "id": "26796EXtOTu5"
   },
   "source": [
    "#### Задание 2. \n",
    "Модифицировать реализованный алгоритм, чтобы получился стохастический градиентный бустинг. Размер подвыборки принять равным 0.5. Сравнить на одном графике кривые изменения ошибки на тестовой выборке в зависимости от числа итераций."
   ]
  },
  {
   "cell_type": "code",
   "execution_count": 10,
   "metadata": {
    "executionInfo": {
     "elapsed": 298,
     "status": "ok",
     "timestamp": 1623585295314,
     "user": {
      "displayName": "Nina Trubacheva",
      "photoUrl": "",
      "userId": "12178336938096721991"
     },
     "user_tz": -480
    },
    "id": "Hl3pVm40OQHW"
   },
   "outputs": [],
   "source": [
    "def sgb_fit(n_trees, max_depth, X_train, X_test, y_train, y_test, coefs, eta):\n",
    "    \n",
    "    # Деревья будем записывать в список\n",
    "    trees = []\n",
    "    \n",
    "    # Будем записывать ошибки на обучающей и тестовой выборке на каждой итерации в список\n",
    "    train_errors = []\n",
    "    test_errors = []\n",
    "    \n",
    "    sub_low = 0\n",
    "    sub_high = X_train.shape[0]\n",
    "    sub_size = int(X_train.shape[0] * 0.5)\n",
    "    \n",
    "    for i in range(n_trees):\n",
    "        tree = DecisionTreeRegressor(max_depth=max_depth, random_state=42)\n",
    "\n",
    "        # Генерирууем случайную подвыборку\n",
    "        sub_ind = np.random.randint(sub_low, sub_high, sub_size)\n",
    "\n",
    "        # инициализируем бустинг начальным алгоритмом, возвращающим ноль, \n",
    "        # поэтому первый алгоритм просто обучаем на выборке и добавляем в список\n",
    "        if len(trees) == 0:\n",
    "            # обучаем первое дерево на обучающей выборке\n",
    "            tree.fit(X_train[sub_ind], y_train[sub_ind])\n",
    "            train_errors.append(mean_squared_error(y_train[sub_ind], gb_predict(X_train[sub_ind], trees, coefs, eta)))\n",
    "            test_errors.append(mean_squared_error(y_test, gb_predict(X_test, trees, coefs, eta)))\n",
    "        else:\n",
    "            # Получим ответы на текущей композиции\n",
    "            target = gb_predict(X_train[sub_ind], trees, coefs, eta)\n",
    "            \n",
    "            # алгоритмы начиная со второго обучаем на сдвиг\n",
    "            tree.fit(X_train[sub_ind], bias(y_train[sub_ind], target))\n",
    "            \n",
    "            train_errors.append(mean_squared_error(y_train[sub_ind], gb_predict(X_train[sub_ind], trees, coefs, eta)))\n",
    "            test_errors.append(mean_squared_error(y_test, gb_predict(X_test, trees, coefs, eta)))\n",
    "\n",
    "        trees.append(tree)\n",
    "        \n",
    "    return trees, train_errors, test_errors"
   ]
  },
  {
   "cell_type": "code",
   "execution_count": 11,
   "metadata": {
    "executionInfo": {
     "elapsed": 274,
     "status": "ok",
     "timestamp": 1623585308315,
     "user": {
      "displayName": "Nina Trubacheva",
      "photoUrl": "",
      "userId": "12178336938096721991"
     },
     "user_tz": -480
    },
    "id": "oVWQznRoOZIK"
   },
   "outputs": [],
   "source": [
    "def get_error_sgb_plot(n_trees, gb_err, sgb_err, title):\n",
    "    plt.title(title)\n",
    "    plt.xlabel('Iteration number')\n",
    "    plt.ylabel('MSE')\n",
    "    plt.xlim(0, n_trees)\n",
    "    plt.plot(list(range(n_trees)), gb_err, label='GB error')\n",
    "    plt.plot(list(range(n_trees)), sgb_err, label='SGB error')\n",
    "    plt.legend(loc='upper right')\n",
    "    plt.show()"
   ]
  },
  {
   "cell_type": "code",
   "execution_count": 12,
   "metadata": {
    "executionInfo": {
     "elapsed": 276,
     "status": "ok",
     "timestamp": 1623585316034,
     "user": {
      "displayName": "Nina Trubacheva",
      "photoUrl": "",
      "userId": "12178336938096721991"
     },
     "user_tz": -480
    },
    "id": "K3jvpc5_OZNr"
   },
   "outputs": [],
   "source": [
    "max_depth = 3\n",
    "eta = 0.1\n",
    "n_trees = 20\n",
    "coefs = [1] * n_trees"
   ]
  },
  {
   "cell_type": "code",
   "execution_count": 13,
   "metadata": {
    "colab": {
     "base_uri": "https://localhost:8080/"
    },
    "executionInfo": {
     "elapsed": 18746,
     "status": "ok",
     "timestamp": 1623585342885,
     "user": {
      "displayName": "Nina Trubacheva",
      "photoUrl": "",
      "userId": "12178336938096721991"
     },
     "user_tz": -480
    },
    "id": "lXEGrl65OeED",
    "outputId": "f601f262-cf63-40ae-f932-4de781159780"
   },
   "outputs": [
    {
     "name": "stdout",
     "output_type": "stream",
     "text": [
      "Wall time: 10.5 s\n"
     ]
    }
   ],
   "source": [
    "%%time\n",
    "gb_trees, gb_train_errors, gb_test_errors = gb_fit(n_trees, max_depth, X_train, X_test, y_train, y_test, coefs, eta)"
   ]
  },
  {
   "cell_type": "code",
   "execution_count": 14,
   "metadata": {
    "colab": {
     "base_uri": "https://localhost:8080/"
    },
    "executionInfo": {
     "elapsed": 10576,
     "status": "ok",
     "timestamp": 1623585357018,
     "user": {
      "displayName": "Nina Trubacheva",
      "photoUrl": "",
      "userId": "12178336938096721991"
     },
     "user_tz": -480
    },
    "id": "KRqk63DpOg3F",
    "outputId": "8686e41e-01e2-4173-a8e3-32d9d6a8100a"
   },
   "outputs": [
    {
     "name": "stdout",
     "output_type": "stream",
     "text": [
      "Wall time: 5.69 s\n"
     ]
    }
   ],
   "source": [
    "%%time\n",
    "sgb_trees, sgb_train_errors, sgb_test_errors = sgb_fit(n_trees, max_depth, X_train, X_test, y_train, y_test, coefs, eta)"
   ]
  },
  {
   "cell_type": "code",
   "execution_count": 15,
   "metadata": {
    "colab": {
     "base_uri": "https://localhost:8080/",
     "height": 573
    },
    "executionInfo": {
     "elapsed": 757,
     "status": "ok",
     "timestamp": 1623585358749,
     "user": {
      "displayName": "Nina Trubacheva",
      "photoUrl": "",
      "userId": "12178336938096721991"
     },
     "user_tz": -480
    },
    "id": "LJ-NiBWvOg50",
    "outputId": "f47a6396-d17b-450c-fff7-ae2830008975"
   },
   "outputs": [
    {
     "data": {
      "image/png": "[encoded data removed]",
      "text/plain": [
       "<Figure size 432x288 with 1 Axes>"
      ]
     },
     "metadata": {
      "needs_background": "light"
     },
     "output_type": "display_data"
    },
    {
     "data": {
      "image/png": "[encoded data removed]",
      "text/plain": [
       "<Figure size 432x288 with 1 Axes>"
      ]
     },
     "metadata": {
      "needs_background": "light"
     },
     "output_type": "display_data"
    }
   ],
   "source": [
    "get_error_sgb_plot(n_trees, gb_train_errors, sgb_train_errors, 'Train')\n",
    "get_error_sgb_plot(n_trees, gb_test_errors, sgb_test_errors, 'Test')"
   ]
  }
 ],
 "metadata": {
  "colab": {
   "authorship_tag": "ABX9TyPn4AoJTelIDfUqdIl9mmt1",
   "collapsed_sections": [],
   "name": "6.ipynb",
   "provenance": []
  },
  "kernelspec": {
   "display_name": "Python 3",
   "language": "python",
   "name": "python3"
  },
  "language_info": {
   "codemirror_mode": {
    "name": "ipython",
    "version": 3
   },
   "file_extension": ".py",
   "mimetype": "text/x-python",
   "name": "python",
   "nbconvert_exporter": "python",
   "pygments_lexer": "ipython3",
   "version": "3.8.5"
  }
 },
 "nbformat": 4,
 "nbformat_minor": 1
}
